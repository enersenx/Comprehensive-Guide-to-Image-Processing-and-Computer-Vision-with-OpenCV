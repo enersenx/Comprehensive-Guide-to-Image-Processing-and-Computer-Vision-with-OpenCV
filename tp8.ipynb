{
 "cells": [
  {
   "cell_type": "code",
   "execution_count": 21,
   "metadata": {},
   "outputs": [],
   "source": [
    "import cv2\n",
    "import numpy as np\n",
    "import matplotlib.pyplot as plt"
   ]
  },
  {
   "cell_type": "code",
   "execution_count": 22,
   "metadata": {},
   "outputs": [],
   "source": [
    "# t0 prendre i0 traitement save # next\n",
    "# t0 prendre i0 traitement save # attendre fin tps d'echantillonage # next\n",
    "# si on depasse tps the next img is not taken on passe a celle d'apres i2 ... (depasse) i3X i4"
   ]
  },
  {
   "cell_type": "code",
   "execution_count": 28,
   "metadata": {},
   "outputs": [],
   "source": [
    "cap = cv2.VideoCapture(0)\n",
    "fourcc = cv2.VideoWriter_fourcc('X', 'V', 'I', 'D')\n",
    "frame_width = int(cap.get(3))\n",
    "frame_heigth = int(cap.get(4))\n",
    "out = cv2.VideoWriter(\"output.avi\", fourcc, 10 , (frame_width, frame_heigth))\n",
    "if not cap.isOpened():\n",
    "    print(\"erreur de capture\")\n",
    "    exit(0)\n",
    "while cap.isOpened():\n",
    "    ret, frame = cap.read()\n",
    "    if not ret:\n",
    "        print(\"error img read\")\n",
    "        break\n",
    "    out.write(frame)\n",
    "    cv2.imshow(\"image\", frame)\n",
    "    if cv2.waitKey(20) & 0xFF == ord('q'):\n",
    "        break\n",
    "cap.release()\n",
    "out.release()\n",
    "cv2.destroyAllWindows()\n",
    "    "
   ]
  },
  {
   "cell_type": "code",
   "execution_count": 29,
   "metadata": {},
   "outputs": [],
   "source": [
    "cap = cv2.VideoCapture('output.avi')\n",
    "fourcc = cv2.VideoWriter_fourcc('X', 'V', 'I', 'D')\n",
    "frame_width = int(cap.get(3))\n",
    "frame_heigth = int(cap.get(4))\n",
    "out = cv2.VideoWriter(\"output2.avi\", fourcc, 10 , (frame_width, frame_heigth))\n",
    "if not cap.isOpened():\n",
    "    print(\"erreur de capture\")\n",
    "    exit(0)\n",
    "while cap.isOpened():\n",
    "    ret, frame = cap.read()\n",
    "    if not ret:\n",
    "        print(\"error img read\")\n",
    "        break\n",
    "    out.write(frame)\n",
    "    cv2.imshow(\"image\", frame)\n",
    "    if cv2.waitKey(20) & 0xFF == ord('q'):\n",
    "        break\n",
    "cap.release()\n",
    "out.release()\n",
    "cv2.destroyAllWindows()\n",
    "    "
   ]
  },
  {
   "cell_type": "code",
   "execution_count": null,
   "metadata": {},
   "outputs": [],
   "source": []
  }
 ],
 "metadata": {
  "kernelspec": {
   "display_name": "Python 3",
   "language": "python",
   "name": "python3"
  },
  "language_info": {
   "codemirror_mode": {
    "name": "ipython",
    "version": 3
   },
   "file_extension": ".py",
   "mimetype": "text/x-python",
   "name": "python",
   "nbconvert_exporter": "python",
   "pygments_lexer": "ipython3",
   "version": "3.10.0"
  }
 },
 "nbformat": 4,
 "nbformat_minor": 2
}
