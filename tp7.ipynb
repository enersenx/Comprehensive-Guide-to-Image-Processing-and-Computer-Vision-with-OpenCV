{
 "cells": [
  {
   "cell_type": "code",
   "execution_count": 18,
   "metadata": {},
   "outputs": [],
   "source": [
    "import cv2\n",
    "import numpy as np\n",
    "import matplotlib.pyplot as plt"
   ]
  },
  {
   "cell_type": "code",
   "execution_count": 19,
   "metadata": {},
   "outputs": [
    {
     "name": "stdout",
     "output_type": "stream",
     "text": [
      "(1000, 1778, 3)\n"
     ]
    }
   ],
   "source": [
    "img = cv2.imread('img.jpg', cv2.IMREAD_COLOR)\n",
    "print(img.shape)\n",
    "\n",
    "if img is None:\n",
    "    print(\"erreur de chargement\")\n",
    "    exit(0)"
   ]
  },
  {
   "cell_type": "code",
   "execution_count": 20,
   "metadata": {},
   "outputs": [],
   "source": [
    "img_b = np.zeros(img.shape, img.dtype)\n",
    "img_g = np.zeros(img.shape, img.dtype)\n",
    "img_r = np.zeros(img.shape, img.dtype)"
   ]
  },
  {
   "cell_type": "code",
   "execution_count": 21,
   "metadata": {},
   "outputs": [],
   "source": [
    "# opencv BGR, B 0, G 1, R 2\n",
    "for y in range(img.shape[0]):\n",
    "    for x in range(img.shape[1]):\n",
    "        img_b[y,x,0] = img[y,x,0]\n",
    "        img_g[y,x,1] = img[y,x,1]\n",
    "        img_r[y,x,2] = img[y,x,2]"
   ]
  },
  {
   "cell_type": "code",
   "execution_count": 22,
   "metadata": {},
   "outputs": [],
   "source": [
    "# img_b[:,:,0] = img[:,:,0] # imshow trouve 3 dimensions donc affiche bgr\n",
    "img_b = img[:,:,0] # imshow ne trouve pas 3 dimensions donc pour lui c grayscale meme si on affacter le bleu"
   ]
  },
  {
   "cell_type": "code",
   "execution_count": 23,
   "metadata": {},
   "outputs": [],
   "source": [
    "# cv2.imshow('image avant', img)\n",
    "cv2.imshow('image blue', img_b)\n",
    "# cv2.imshow('image green', img_g)\n",
    "# cv2.imshow('image red', img_r)\n",
    "cv2.waitKey(0)\n",
    "cv2.destroyAllWindows()"
   ]
  }
 ],
 "metadata": {
  "kernelspec": {
   "display_name": "Python 3",
   "language": "python",
   "name": "python3"
  },
  "language_info": {
   "codemirror_mode": {
    "name": "ipython",
    "version": 3
   },
   "file_extension": ".py",
   "mimetype": "text/x-python",
   "name": "python",
   "nbconvert_exporter": "python",
   "pygments_lexer": "ipython3",
   "version": "3.10.0"
  }
 },
 "nbformat": 4,
 "nbformat_minor": 2
}
