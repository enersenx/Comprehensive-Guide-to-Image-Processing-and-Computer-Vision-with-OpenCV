{
 "cells": [
  {
   "cell_type": "code",
   "execution_count": 10,
   "metadata": {},
   "outputs": [],
   "source": [
    "import cv2\n",
    "import numpy as np\n",
    "import matplotlib.pyplot as plt"
   ]
  },
  {
   "cell_type": "code",
   "execution_count": 11,
   "metadata": {},
   "outputs": [],
   "source": [
    "th = 0\n",
    "type = 0"
   ]
  },
  {
   "cell_type": "code",
   "execution_count": 12,
   "metadata": {},
   "outputs": [
    {
     "name": "stdout",
     "output_type": "stream",
     "text": [
      "(1000, 1778)\n"
     ]
    }
   ],
   "source": [
    "img = cv2.imread('img.jpg', cv2.IMREAD_GRAYSCALE)\n",
    "print(img.shape)\n",
    "\n",
    "if img is None:\n",
    "    print(\"erreur de chargement\")\n",
    "    exit(0)"
   ]
  },
  {
   "cell_type": "code",
   "execution_count": 13,
   "metadata": {},
   "outputs": [],
   "source": [
    "imgRes = np.zeros(img.shape, img.dtype)"
   ]
  },
  {
   "cell_type": "code",
   "execution_count": 14,
   "metadata": {},
   "outputs": [],
   "source": [
    "def afficher():\n",
    "    cv2.threshold(img,th,255,type,imgRes)\n",
    "    cv2.imshow(\"result\", imgRes)"
   ]
  },
  {
   "cell_type": "code",
   "execution_count": 15,
   "metadata": {},
   "outputs": [],
   "source": [
    "def changeTh(x):\n",
    "    global th\n",
    "    th = x \n",
    "    afficher()"
   ]
  },
  {
   "cell_type": "code",
   "execution_count": 16,
   "metadata": {},
   "outputs": [],
   "source": [
    "def changeType(x):\n",
    "    global type\n",
    "    type = x\n",
    "    afficher()"
   ]
  },
  {
   "cell_type": "code",
   "execution_count": 17,
   "metadata": {},
   "outputs": [],
   "source": [
    "cv2.namedWindow(\"result\")\n",
    "afficher() #afficher l'image avant le trackbar\n",
    "cv2.createTrackbar(\"threshold\", \"result\", 0, 255, changeTh)\n",
    "cv2.createTrackbar(\"type\", \"result\", 0, 4, changeType)\n",
    "cv2.waitKey(0)\n",
    "cv2.destroyAllWindows()"
   ]
  },
  {
   "cell_type": "code",
   "execution_count": 18,
   "metadata": {},
   "outputs": [],
   "source": [
    "# # fonction de base\n",
    "# treshold x\n",
    "# filtre gauss, laplatien\n",
    "# morpho"
   ]
  }
 ],
 "metadata": {
  "kernelspec": {
   "display_name": "Python 3",
   "language": "python",
   "name": "python3"
  },
  "language_info": {
   "codemirror_mode": {
    "name": "ipython",
    "version": 3
   },
   "file_extension": ".py",
   "mimetype": "text/x-python",
   "name": "python",
   "nbconvert_exporter": "python",
   "pygments_lexer": "ipython3",
   "version": "3.10.0"
  }
 },
 "nbformat": 4,
 "nbformat_minor": 2
}
