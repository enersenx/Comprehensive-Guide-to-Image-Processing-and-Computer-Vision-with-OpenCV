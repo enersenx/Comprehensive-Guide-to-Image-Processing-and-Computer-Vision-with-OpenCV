{
 "cells": [
  {
   "cell_type": "code",
   "execution_count": 1,
   "metadata": {},
   "outputs": [],
   "source": [
    "import cv2\n",
    "import numpy as np\n",
    "import matplotlib.pyplot as plt"
   ]
  },
  {
   "cell_type": "code",
   "execution_count": 2,
   "metadata": {},
   "outputs": [],
   "source": [
    "sizeDilate = 1\n",
    "sizeErode = 1\n",
    "sizeMorphEx = 1"
   ]
  },
  {
   "cell_type": "code",
   "execution_count": 3,
   "metadata": {},
   "outputs": [],
   "source": [
    "cv2.namedWindow(\"dilate\") # dilate blanc\n",
    "cv2.namedWindow(\"erode\") # erode blanc\n",
    "cv2.namedWindow(\"morphEx\") \n",
    "#open erosion puis dilatation"
   ]
  },
  {
   "cell_type": "code",
   "execution_count": 4,
   "metadata": {},
   "outputs": [
    {
     "data": {
      "text/plain": [
       "(130.0,\n",
       " array([[255, 255, 255, ..., 255, 255, 255],\n",
       "        [255, 255, 255, ..., 255, 255, 255],\n",
       "        [255, 255, 255, ..., 255, 255, 255],\n",
       "        ...,\n",
       "        [255, 255, 255, ..., 255, 255, 255],\n",
       "        [255, 255, 255, ..., 255, 255, 255],\n",
       "        [255, 255, 255, ..., 255, 255, 255]], dtype=uint8))"
      ]
     },
     "execution_count": 4,
     "metadata": {},
     "output_type": "execute_result"
    }
   ],
   "source": [
    "img = cv2.imread('img.jpg', cv2.IMREAD_GRAYSCALE)\n",
    "# cv2.threshold(img, 130, 255, 0, img) # noir = 0\n",
    "cv2.threshold(img, 130, 255, 1, img) #inverser noir et blanc , blanc = 1"
   ]
  },
  {
   "cell_type": "code",
   "execution_count": 5,
   "metadata": {},
   "outputs": [],
   "source": [
    "def dilate_func():\n",
    "    kernel = cv2.getStructuringElement(cv2.MORPH_RECT, (\n",
    "        sizeDilate*2+1, sizeDilate*2+1\n",
    "    ))\n",
    "    img_dilate = cv2.dilate(img, kernel, iterations = 1)\n",
    "    cv2.imshow(\"dilate\", img_dilate)\n",
    "dilate_func()"
   ]
  },
  {
   "cell_type": "code",
   "execution_count": 6,
   "metadata": {},
   "outputs": [],
   "source": [
    "# def dilate_func():\n",
    "#     kernel = cv2.getStructuringElement(cv2.MORPH_CROSS, (\n",
    "#         sizeDilate*2+1, sizeDilate*2+1\n",
    "#     ))\n",
    "#     img_dilate = cv2.dilate(img, kernel, iterations = 1)\n",
    "#     cv2.imshow(\"dilate\", img_dilate)\n",
    "# dilate_func()"
   ]
  },
  {
   "cell_type": "code",
   "execution_count": 7,
   "metadata": {},
   "outputs": [],
   "source": [
    "def erode_func():\n",
    "    kernel = cv2.getStructuringElement(cv2.MORPH_RECT, (\n",
    "        sizeErode*2+1, sizeErode*2+1\n",
    "    ))\n",
    "    img_erode = cv2.erode(img, kernel, iterations = 1)\n",
    "    cv2.imshow(\"erode\", img_erode)\n",
    "erode_func()"
   ]
  },
  {
   "cell_type": "code",
   "execution_count": 8,
   "metadata": {},
   "outputs": [],
   "source": [
    "# def erode_func():\n",
    "#     kernel = cv2.getStructuringElement(cv2.MORPH_CROSS, (\n",
    "#         sizeErode*2+1, sizeErode*2+1\n",
    "#     ))\n",
    "#     img_erode = cv2.erode(img, kernel, iterations = 1)\n",
    "#     cv2.imshow(\"erode\", img_erode)\n",
    "# erode_func()"
   ]
  },
  {
   "cell_type": "code",
   "execution_count": 9,
   "metadata": {},
   "outputs": [],
   "source": [
    "def morphEx_func():\n",
    "    kernel = cv2.getStructuringElement(cv2.MORPH_CROSS, (\n",
    "        sizeMorphEx*2+1, sizeMorphEx*2+1\n",
    "    ))\n",
    "    img_morphEx = cv2.morphologyEx(img, cv2.MORPH_OPEN, kernel, iterations = 1)\n",
    "    cv2.imshow(\"morphEx\", img_morphEx)\n",
    "morphEx_func()"
   ]
  },
  {
   "cell_type": "code",
   "execution_count": 10,
   "metadata": {},
   "outputs": [],
   "source": [
    "def change_dilate_size(x):\n",
    "    global sizeDilate\n",
    "    sizeDilate = x \n",
    "    dilate_func()"
   ]
  },
  {
   "cell_type": "code",
   "execution_count": 11,
   "metadata": {},
   "outputs": [],
   "source": [
    "def change_erode_size(x):\n",
    "    global sizeErode\n",
    "    sizeErode = x \n",
    "    erode_func()"
   ]
  },
  {
   "cell_type": "code",
   "execution_count": 12,
   "metadata": {},
   "outputs": [],
   "source": [
    "def change_morphEx_size(x):\n",
    "    global sizeMorphEx\n",
    "    sizeMorphEx = x \n",
    "    morphEx_func()"
   ]
  },
  {
   "cell_type": "code",
   "execution_count": 13,
   "metadata": {},
   "outputs": [],
   "source": [
    "cv2.createTrackbar(\"sizeDilate\", \"dilate\", 0, 21, change_dilate_size)\n",
    "cv2.createTrackbar(\"sizeErode\", \"erode\", 0, 21, change_erode_size)\n",
    "cv2.createTrackbar(\"sizeMorphEx\", \"morphEx\", 0, 21, change_morphEx_size)"
   ]
  },
  {
   "cell_type": "code",
   "execution_count": 14,
   "metadata": {},
   "outputs": [],
   "source": [
    "cv2.imshow(\"src\", img)\n",
    "cv2.waitKey(0)"
   ]
  }
 ],
 "metadata": {
  "kernelspec": {
   "display_name": "Python 3",
   "language": "python",
   "name": "python3"
  },
  "language_info": {
   "codemirror_mode": {
    "name": "ipython",
    "version": 3
   },
   "file_extension": ".py",
   "mimetype": "text/x-python",
   "name": "python",
   "nbconvert_exporter": "python",
   "pygments_lexer": "ipython3",
   "version": "3.10.0"
  }
 },
 "nbformat": 4,
 "nbformat_minor": 2
}
