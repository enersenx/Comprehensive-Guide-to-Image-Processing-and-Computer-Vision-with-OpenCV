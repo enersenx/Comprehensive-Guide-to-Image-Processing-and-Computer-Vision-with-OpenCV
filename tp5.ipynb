{
 "cells": [
  {
   "cell_type": "code",
   "execution_count": 56,
   "metadata": {},
   "outputs": [],
   "source": [
    "import cv2\n",
    "import numpy as np\n",
    "import matplotlib.pyplot as plt"
   ]
  },
  {
   "cell_type": "code",
   "execution_count": 57,
   "metadata": {},
   "outputs": [],
   "source": [
    "th = 0\n",
    "type = 0"
   ]
  },
  {
   "cell_type": "code",
   "execution_count": 58,
   "metadata": {},
   "outputs": [
    {
     "name": "stdout",
     "output_type": "stream",
     "text": [
      "(1000, 1778)\n"
     ]
    }
   ],
   "source": [
    "img = cv2.imread('img.jpg', cv2.IMREAD_GRAYSCALE)\n",
    "print(img.shape)\n",
    "\n",
    "if img is None:\n",
    "    print(\"erreur de chargement\")\n",
    "    exit(0)"
   ]
  },
  {
   "cell_type": "code",
   "execution_count": 59,
   "metadata": {},
   "outputs": [],
   "source": [
    "# gauss donne plus d'imporatnce à l ancienne img , more details, preserve dynamique (intervalle), elimine bruit\n",
    "# laplace ne pres pas dynamique, on normalise (hist) , determine contour"
   ]
  },
  {
   "cell_type": "code",
   "execution_count": 60,
   "metadata": {},
   "outputs": [],
   "source": [
    "# filtre laplatien\n",
    "kernel_l = np.array([[0,-1,0],[-1,4,-1],[0,-1,0]]) ## calcule la difference eentre le centre et les extremités\n",
    "# kernel_l = np.array([[0,-1,0],[-1,5,-1],[0,-1,0]]) ## on rajoute l'identité, gradient + l'image initial , les contours sont plus voyants\n",
    "\n",
    "#filtre gaussien\n",
    "kernel_g = np.array([[1,2,1],[2,4,2],[1,2,1]])\n",
    "kernel_g = kernel_g / 16"
   ]
  },
  {
   "cell_type": "code",
   "execution_count": 61,
   "metadata": {},
   "outputs": [],
   "source": [
    "# imgRes_l = cv2.filter2D(img,-1,kernel_l)\n",
    "# cv2.threshold(imgRes_l, 125, 255, type, imgRes_l)\n",
    "\n",
    "# # imgRes_g = cv2.filter2D(img,-1,kernel_g)"
   ]
  },
  {
   "cell_type": "code",
   "execution_count": 62,
   "metadata": {},
   "outputs": [],
   "source": [
    "def afficher():\n",
    "    # imgRes_l = cv2.filter2D(img,-1,kernel_l) ##\n",
    "    # cv2.threshold(imgRes_l, th, 255, type, imgRes_l)\n",
    "    # cv2.imshow(\"result\", imgRes_l)\n",
    "\n",
    "    imgRes_g = cv2.filter2D(img,-1,kernel_g)\n",
    "    cv2.threshold(imgRes_g, th, 255, type, imgRes_g)\n",
    "    cv2.imshow(\"result\", imgRes_g)\n",
    "    "
   ]
  },
  {
   "cell_type": "code",
   "execution_count": 63,
   "metadata": {},
   "outputs": [],
   "source": [
    "def changeTh(x):\n",
    "    global th\n",
    "    th = x \n",
    "    afficher()"
   ]
  },
  {
   "cell_type": "code",
   "execution_count": 64,
   "metadata": {},
   "outputs": [],
   "source": [
    "cv2.namedWindow(\"result\")\n",
    "afficher()\n",
    "cv2.createTrackbar(\"threshold\", \"result\", 0, 255, changeTh)\n",
    "cv2.waitKey(0)\n",
    "cv2.destroyAllWindows()"
   ]
  },
  {
   "cell_type": "code",
   "execution_count": 65,
   "metadata": {},
   "outputs": [],
   "source": [
    "# # cv2.imshow('image', img)\n",
    "# cv2.imshow('result_l', imgRes_l)\n",
    "# # cv2.imshow('result_g', imgRes_g)\n",
    "# cv2.waitKey(0)\n",
    "# cv2.destroyAllWindows()"
   ]
  },
  {
   "cell_type": "code",
   "execution_count": 66,
   "metadata": {},
   "outputs": [],
   "source": [
    "# # fonction de base\n",
    "# treshold x\n",
    "# filtre laplatien\n",
    "# morpho"
   ]
  }
 ],
 "metadata": {
  "kernelspec": {
   "display_name": "Python 3",
   "language": "python",
   "name": "python3"
  },
  "language_info": {
   "codemirror_mode": {
    "name": "ipython",
    "version": 3
   },
   "file_extension": ".py",
   "mimetype": "text/x-python",
   "name": "python",
   "nbconvert_exporter": "python",
   "pygments_lexer": "ipython3",
   "version": "3.10.0"
  }
 },
 "nbformat": 4,
 "nbformat_minor": 2
}
